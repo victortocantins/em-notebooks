{
 "cells": [
  {
   "cell_type": "markdown",
   "metadata": {},
   "source": [
    "<img src=\"../images/logo_EMMI.png\" style=\"width: 20%; height: 20%\" align=\"right\"></img></a>\n",
    "\n",
    "# EMMI - Notebooks e Aplicativos\n",
    "\n",
    "Notebooks e aplicativos utilizados no curso de métodos eletromagnéticos baseado nos projetos  **<a href=\"http://gpg.geosci.xyz\">em.geosci.xyz</a>**, **<a href=\"http://em.geosci.xyz\">em.geosci.xyz</a>** e  <a href=\"http://simpeg.xzy\">SimPEG</a> e utilizando  **<a href=\"https://github.com/geoscixyz/geosci-labs/\">geosci-labs</a>** como repositório dos códigos bases para as simulações da teoria e técnicas dos métodos EM."
   ]
  },
  {
   "cell_type": "markdown",
   "metadata": {},
   "source": [
    "<a href=\"http://em.geosci.xyz\"><img src=\"https://em.geosci.xyz/_images/disc_dipole.png\" style=\"width: 20%; height: 20%\" align=\"right\"></img></a>\n",
    "\n",
    "# GeoSci-labs\n",
    "\n",
    "The purpose of these notebooks is to provide tools for you to investigate fundamental concepts in ammplied geophysics. They support the open source textbooks :\n",
    "- **<a href=\"http://gpg.geosci.xyz\">gpg.geosci.xyz</a>**, a resource for applied geophysics\n",
    "- **<a href=\"http://em.geosci.xyz\">em.geosci.xyz</a>**, a resource for electromagnetic geophysics.  \n",
    "\n",
    "\n",
    "These notebooks are powered by <a href=\"http://simpeg.xzy\">SimPEG</a>, an open source framework for Simulation and Parameter Estimation in Geophysics.\n",
    "\n",
    "If you have feedback, we would like to hear from you! \n",
    "- <a href=\"http://geosci.xyz/contact\">Contact us</a>\n",
    "- <a href=\"https://github.com/geoscixyz/geosci-labs/issues\">Report issues</a>\n",
    "- <a href=\"https://github.com/geoscixyz/geosci-labs/\">Join the development</a>"
   ]
  },
  {
   "cell_type": "markdown",
   "metadata": {},
   "source": [
    "**[EM](#Electromagnetics)** \n",
    "\n",
    "\n",
    "## Conteúdo\n",
    "\n",
    "### Métodos Electromagnéticos \n",
    "\n",
    "#### Fundamentos EM\n",
    "- [FDEM_ThreeLoopModel.ipynb](./em/FDEM_ThreeLoopModel.ipynb)\n",
    "- [InductionRLcircuit_Transient.ipynb](./em/InductionRLcircuit_Transient.ipynb)\n",
    "- [InductionRLcircuit_Harmonic.ipynb](./em/InductionRLcircuit_Harmonic.ipynb)\n",
    "- [FDEM_Inductive_Sphere.ipynb](./em/FDEM_Inductive_Sphere.ipynb)\n",
    "- [TDEM_Planewave_Wholespace.ipynb](./em/TDEM_Planewave_Wholespace.ipynb)\n",
    "- [FDEM_Planewave_Wholespace.ipynb](./em/FDEM_Planewave_Wholespace.ipynb)\n",
    "- [TDEM_MagneticDipole_Wholespace.ipynb](./em/TDEM_MagneticDipole_Wholespace.ipynb)\n",
    "- [FDEM_MagneticDipole_Wholespace.ipynb](./em/FDEM_MagneticDipole_Wholespace.ipynb)\n",
    "\n",
    "#### Fontes Indutivas EM\n",
    "- [TDEM_HorizontalLoop_LayeredEarth.ipynb](./em/TDEM_HorizontalLoop_LayeredEarth.ipynb)\n",
    "- [TDEM_HorizontalLoop_Sphere.ipynb](./em/TDEM_HorizontalLoop_Sphere.ipynb)\n",
    "- [FDEM_VMD_LayeredEarth.ipynb](./em/FDEM_VMD_LayeredEarth.ipynb)\n",
    "- [FDEM_VMD_Sphere.ipynb](./em/FDEM_VMD_Sphere.ipynb)\n",
    "- [TDEM_InductiveSource.ipynb](./em/TDEM_InductiveSource.ipynb)\n",
    "- [TDEM_UXO.ipynb](./em/TDEM_UXO.ipynb)\n",
    "\n",
    "#### Fontes aterradas EM\n",
    "- [TDEM_ElectricDipole_Wholespace.ipynb](./em/TDEM_ElectricDipole_Wholespace.ipynb)\n",
    "- [FDEM_ElectricDipole_Wholespace.ipynb](./em/FDEM_ElectricDipole_Wholespace.ipynb)\n",
    "- [MarineCSEM_LayeredEarth.ipynb](./em/MarineCSEM_LayeredEarth.ipynb)\n",
    "- [TDEM_Groundedsource.ipynb](./em/TDEM_Groundedsource.ipynb)\n",
    "\n",
    "#### Fontes naturais EM\n",
    "- [FDEM_Planewave_Reflection.ipynb](./em/FDEM_Planewave_Reflection.ipynb)\n",
    "- [MT_LayeredEarth.ipynb](./em/MT_LayeredEarth.ipynb)\n",
    "\n",
    "\n",
    "### Ground Penetrating Radar - GPR\n",
    "- [GPR_Attenuation.ipynb](./gpr/GPR_Attenuation.ipynb)\n",
    "- [GPR_Lab6_FitData.ipynb](./gpr/GPR_Lab6_FitData.ipynb)\n",
    "- [GPR_TBL4_DOI_Resolution.ipynb](./gpr/GPR_TBL4_DOI_Resolution.ipynb)\n",
    "\n",
    "### Inversão\n",
    "- [LinearInversion.ipynb](./inversion/LinearInversion.ipynb): 1D Linear inversion app\n",
    "- [2D-LinearInversion-Crosswell-Tomorgraphy.ipynb](./inversion/2D-LinearInversion-Crosswell-Tomorgraphy.ipynb): 2D Crosswell Tomography inversion app\n"
   ]
  },
  {
   "cell_type": "markdown",
   "metadata": {},
   "source": [
    "#### <center>We love open source!</center>\n",
    "\n",
    "<center><a rel=\"license\" href=\"http://creativecommons.org/licenses/by/4.0/\"><img alt=\"Creative Commons License\" style=\"border-width:0\" width=60 src=\"https://i.creativecommons.org/l/by/4.0/88x31.png\" /></a> \n",
    "\n",
    "This work is licensed under a <a rel=\"license\" href=\"http://creativecommons.org/licenses/by/4.0/\">Creative Commons Attribution 4.0 International License</a>.</center>"
   ]
  }
 ],
 "metadata": {
  "anaconda-cloud": {},
  "kernelspec": {
   "display_name": "Python 3",
   "language": "python",
   "name": "python3"
  },
  "language_info": {
   "codemirror_mode": {
    "name": "ipython",
    "version": 3
   },
   "file_extension": ".py",
   "mimetype": "text/x-python",
   "name": "python",
   "nbconvert_exporter": "python",
   "pygments_lexer": "ipython3",
   "version": "3.8.12"
  }
 },
 "nbformat": 4,
 "nbformat_minor": 1
}
