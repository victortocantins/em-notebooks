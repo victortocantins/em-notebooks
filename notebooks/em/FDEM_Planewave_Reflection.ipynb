{
 "cells": [
  {
   "cell_type": "code",
   "execution_count": 1,
   "metadata": {},
   "outputs": [
    {
     "name": "stdout",
     "output_type": "stream",
     "text": [
      "Populating the interactive namespace from numpy and matplotlib\n"
     ]
    }
   ],
   "source": [
    "%pylab inline\n",
    "from ipywidgets import *\n",
    "from IPython.display import display\n",
    "from geoscilabs.em.Reflection import PowerReflection"
   ]
  },
  {
   "cell_type": "markdown",
   "metadata": {},
   "source": [
    "# Reflexão e Refração de ondas planas"
   ]
  },
  {
   "cell_type": "markdown",
   "metadata": {},
   "source": [
    "# Objetivo\n",
    "\n",
    "As ondas eletromagnéticas são refletidas e refratadas em uma interface plana que separa meios de diferentes propriedades elétricas. Os itens essenciais para entender aqui são:\n",
    "\n",
    "- O que são modos TE e TM para reflexão e refração\n",
    "- Como a reflexão e a refração mudam devido ao ângulo incidente e aos parâmetros elétricos\n",
    "- Reflexão total\n",
    "- ângulo de Brewster\n"
   ]
  },
  {
   "cell_type": "markdown",
   "metadata": {},
   "source": [
    "# Set up\n",
    "\n",
    "Uma onda plana é refletida e refratada em uma interface de onda plana. Aqui $\\mathbf{k}$ é a constante de propagação da onda, que é um vetor. Consideramos dois modos diferentes:\n",
    "\n",
    "- Elétrico transversal (TE): Sem campo elétrico vertical\n",
    "- Magnético transversal (TM): Sem campo magnético vertical\n",
    "\n",
    "<img src=\"../../images/em/snellslaw_setup.png\" width=500 px></img>"
   ]
  },
  {
   "cell_type": "markdown",
   "metadata": {},
   "source": [
    "## TE mode\n",
    "\n",
    "Electric field ($\\mathbf{E}$) is transverse to the plane of incidence (No vertical electric field)."
   ]
  },
  {
   "cell_type": "markdown",
   "metadata": {},
   "source": [
    "<img src=\"../../images/em/fresnel_setup_TE.png\" width=500 px></img>"
   ]
  },
  {
   "cell_type": "markdown",
   "metadata": {},
   "source": [
    "## TM mode\n",
    "\n",
    "Magnetic field ($\\mathbf{H}$) is transverse to the plane of incidence (No vertical electric field)."
   ]
  },
  {
   "cell_type": "markdown",
   "metadata": {},
   "source": [
    "<img src=\"../../images/em/fresnel_setup_TM.png\" width=500 px></img>"
   ]
  },
  {
   "cell_type": "markdown",
   "metadata": {},
   "source": [
    "# Reflection and Transmision app\n",
    "\n",
    "## Parameters\n",
    "\n",
    "- $\\sigma_1$: Conductivity of the first layer (S/m)\n",
    "\n",
    "- $\\sigma_2$: Conductivity of the first layer (S/m)\n",
    "\n",
    "- $f$ (Hz): Frequency (Hz)\n",
    "\n",
    "- Type: \n",
    "\n",
    "    - Reflection: Transmission power as a function of incident angle    \n",
    "    - Transmission: Transmission power as a function of incident angle    \n",
    "    - Angle: relationship between $\\theta_i$ and $\\theta_t$"
   ]
  },
  {
   "cell_type": "code",
   "execution_count": 2,
   "metadata": {},
   "outputs": [
    {
     "data": {
      "application/vnd.jupyter.widget-view+json": {
       "model_id": "b16e1d3c825344c7a55cbb336078a999",
       "version_major": 2,
       "version_minor": 0
      },
      "text/plain": [
       "interactive(children=(FloatText(value=0.0, description='$\\\\sigma_1$'), FloatText(value=0.01, description='$\\\\s…"
      ]
     },
     "metadata": {},
     "output_type": "display_data"
    }
   ],
   "source": [
    "Q = interact(PowerReflection\n",
    "        , sig1 = FloatText(value=0., description=\"$\\sigma_1$\")\n",
    "        , sig2 = FloatText(value=1e-2, description=\"$\\sigma_2$\")\n",
    "        , f = FloatText(value=6e5, description=\"$f$ (Hz)\")\n",
    "        , Type = ToggleButtons(options=[\"Reflection\", \"Transmission\", \"Angle\"])\n",
    "        )"
   ]
  },
  {
   "cell_type": "code",
   "execution_count": null,
   "metadata": {},
   "outputs": [],
   "source": []
  }
 ],
 "metadata": {
  "anaconda-cloud": {},
  "kernelspec": {
   "display_name": "Python 3",
   "language": "python",
   "name": "python3"
  },
  "language_info": {
   "codemirror_mode": {
    "name": "ipython",
    "version": 3
   },
   "file_extension": ".py",
   "mimetype": "text/x-python",
   "name": "python",
   "nbconvert_exporter": "python",
   "pygments_lexer": "ipython3",
   "version": "3.8.8"
  },
  "widgets": {
   "state": {
    "8d55e68de241408dad272f61b93ee653": {
     "views": [
      {
       "cell_index": 9
      }
     ]
    }
   },
   "version": "1.2.0"
  }
 },
 "nbformat": 4,
 "nbformat_minor": 1
}
